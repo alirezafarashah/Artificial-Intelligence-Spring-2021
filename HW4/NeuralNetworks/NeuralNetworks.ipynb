{
  "nbformat": 4,
  "nbformat_minor": 0,
  "metadata": {
    "kernelspec": {
      "display_name": "Python 3",
      "language": "python",
      "name": "python3"
    },
    "language_info": {
      "codemirror_mode": {
        "name": "ipython",
        "version": 3
      },
      "file_extension": ".py",
      "mimetype": "text/x-python",
      "name": "python",
      "nbconvert_exporter": "python",
      "pygments_lexer": "ipython3",
      "version": "3.8.3"
    },
    "colab": {
      "name": "NeuralNetworks.ipynb",
      "provenance": [],
      "collapsed_sections": []
    },
    "accelerator": "GPU"
  },
  "cells": [
    {
      "cell_type": "markdown",
      "metadata": {
        "id": "wM0ApyYK3iew"
      },
      "source": [
        "# AI - Neural Networks\n",
        "\n",
        "Name: `< علیرضا دهقانپور فراشاه >`\n",
        "\n",
        "Student ID: `<98101555>`"
      ]
    },
    {
      "cell_type": "markdown",
      "metadata": {
        "id": "2eQf6-5u3ie3"
      },
      "source": [
        "## Install the requirements"
      ]
    },
    {
      "cell_type": "code",
      "metadata": {
        "id": "tsUG9Bgq3ie4",
        "colab": {
          "base_uri": "https://localhost:8080/"
        },
        "outputId": "23d07fa2-b2e5-40c4-9e07-9997ad77782f"
      },
      "source": [
        "!pip install -r requirements.txt"
      ],
      "execution_count": 130,
      "outputs": [
        {
          "output_type": "stream",
          "text": [
            "Requirement already satisfied: requests in /usr/local/lib/python3.7/dist-packages (from -r requirements.txt (line 1)) (2.23.0)\n",
            "Requirement already satisfied: numpy in /usr/local/lib/python3.7/dist-packages (from -r requirements.txt (line 2)) (1.19.5)\n",
            "Requirement already satisfied: tqdm in /usr/local/lib/python3.7/dist-packages (from -r requirements.txt (line 3)) (4.41.1)\n",
            "Requirement already satisfied: urllib3!=1.25.0,!=1.25.1,<1.26,>=1.21.1 in /usr/local/lib/python3.7/dist-packages (from requests->-r requirements.txt (line 1)) (1.24.3)\n",
            "Requirement already satisfied: certifi>=2017.4.17 in /usr/local/lib/python3.7/dist-packages (from requests->-r requirements.txt (line 1)) (2020.12.5)\n",
            "Requirement already satisfied: idna<3,>=2.5 in /usr/local/lib/python3.7/dist-packages (from requests->-r requirements.txt (line 1)) (2.10)\n",
            "Requirement already satisfied: chardet<4,>=3.0.2 in /usr/local/lib/python3.7/dist-packages (from requests->-r requirements.txt (line 1)) (3.0.4)\n"
          ],
          "name": "stdout"
        }
      ]
    },
    {
      "cell_type": "code",
      "metadata": {
        "id": "ljyLqoiV3ie5"
      },
      "source": [
        "import numpy as np\n",
        "import hw4_helper\n",
        "import torch\n",
        "from torch import nn\n"
      ],
      "execution_count": 131,
      "outputs": []
    },
    {
      "cell_type": "markdown",
      "metadata": {
        "id": "wfGVU46H3ie6"
      },
      "source": [
        "## Load train dataset\n",
        "Note that the dataset will be downloaded in the `data_cache` directory for the first time. So do not remove that directory."
      ]
    },
    {
      "cell_type": "code",
      "metadata": {
        "id": "WVXeukNC3ie7",
        "colab": {
          "base_uri": "https://localhost:8080/"
        },
        "outputId": "fabbb188-00b2-4995-c90d-6f8f5acf9835"
      },
      "source": [
        "x_train, y_train = hw4_helper.get_train_data()\n",
        "x_train.shape, y_train.shape"
      ],
      "execution_count": 132,
      "outputs": [
        {
          "output_type": "execute_result",
          "data": {
            "text/plain": [
              "((98000, 28, 28), (98000,))"
            ]
          },
          "metadata": {
            "tags": []
          },
          "execution_count": 132
        }
      ]
    },
    {
      "cell_type": "markdown",
      "metadata": {
        "id": "2Ydv8Eao3ie8"
      },
      "source": [
        "## Design your model\n",
        "\n",
        "Write your neural network model below. Feel free to add extra cells."
      ]
    },
    {
      "cell_type": "code",
      "metadata": {
        "id": "mLF4n_7g3ie9"
      },
      "source": [
        "class ConvolutionalNeuralNet(nn.Module):\n",
        "  def __init__(self):\n",
        "    super().__init__()\n",
        "    self.layers = nn.Sequential(\n",
        "            nn.Conv2d(1, 32, kernel_size=5, stride=1, padding=2),\n",
        "            nn.BatchNorm2d(32),\n",
        "            nn.ReLU(),\n",
        "            nn.Conv2d(32, 32, kernel_size=5, stride=1, padding=2),\n",
        "            nn.BatchNorm2d(32),\n",
        "            nn.ReLU(),\n",
        "            nn.MaxPool2d(kernel_size=2, stride=2),\n",
        "            nn.Conv2d(32, 64, kernel_size=5, padding=2),\n",
        "            nn.BatchNorm2d(64),\n",
        "            nn.ReLU(),\n",
        "            nn.Conv2d(64, 64, kernel_size=5, padding=2),\n",
        "            nn.BatchNorm2d(64),\n",
        "            nn.ReLU(),\n",
        "            nn.MaxPool2d(kernel_size=2, stride=2)\n",
        "    )\n",
        "    self.decider = nn.Sequential(\n",
        "            nn.Dropout(p = 0.5),\n",
        "            nn.Linear(64 * 7 * 7, 1000),\n",
        "            nn.BatchNorm1d(1000),\n",
        "            nn.ReLU(),\n",
        "            nn.Dropout(p = 0.5),\n",
        "            nn.Linear(1000, 1000),\n",
        "            nn.BatchNorm1d(1000),\n",
        "            nn.ReLU(),\n",
        "            nn.Linear(1000, 10)\n",
        "    )\n",
        "  \n",
        "\n",
        "  def forward(self, x):\n",
        "    res = self.layers(x)\n",
        "    res = torch.flatten(res,1)\n",
        "    res = self.decider(res)\n",
        "    return res\n"
      ],
      "execution_count": 135,
      "outputs": []
    },
    {
      "cell_type": "markdown",
      "metadata": {
        "id": "oNjGIU1E3ie-"
      },
      "source": [
        "## Train your Model\n",
        "Write the training proecss below. Fell free to add extra cells"
      ]
    },
    {
      "cell_type": "code",
      "metadata": {
        "id": "E0Ymq9M83ie_",
        "colab": {
          "base_uri": "https://localhost:8080/"
        },
        "outputId": "3906a5dc-b9f0-4271-cf7b-b93cef86d5ae"
      },
      "source": [
        "from torch.utils.data import DataLoader, TensorDataset\n",
        "\n",
        "my_cnn = ConvolutionalNeuralNet()\n",
        "device = torch.device('cuda')\n",
        "my_cnn.to(device)\n",
        "print(torch.cuda.is_available())\n",
        "loss_function = nn.CrossEntropyLoss()\n",
        "optimizer = torch.optim.Adam(my_cnn.parameters(),lr=0.003)\n",
        "\n",
        "dataset =TensorDataset(torch.unsqueeze(torch.Tensor(x_train),1),torch.Tensor(y_train))\n",
        "train_subset, val_subset = torch.utils.data.random_split(\n",
        "        dataset, [88000, 10000], generator=torch.Generator().manual_seed(1))\n",
        "\n",
        "BATCH_SIZE = 100\n",
        "NUMBER_OF_EPOCHS = 50\n",
        "train_loader = DataLoader(dataset=train_subset, shuffle=True, batch_size=BATCH_SIZE)\n",
        "val_loader = DataLoader(dataset=val_subset, shuffle=False, batch_size=BATCH_SIZE)\n",
        "\n",
        "\n",
        "\n"
      ],
      "execution_count": 136,
      "outputs": [
        {
          "output_type": "stream",
          "text": [
            "True\n"
          ],
          "name": "stdout"
        }
      ]
    },
    {
      "cell_type": "code",
      "metadata": {
        "colab": {
          "base_uri": "https://localhost:8080/"
        },
        "id": "DlhSxYoUH3fY",
        "outputId": "42c05d94-2501-4c6a-bcd9-61155ed0ba7e"
      },
      "source": [
        "from statistics import mean\n",
        "all_train_losses = []\n",
        "all_train_accuracy = []\n",
        "all_val_losses = []\n",
        "all_val_accuracy = []\n",
        "for epoch in range(NUMBER_OF_EPOCHS):\n",
        "  # training\n",
        "  epoch_loss = 0\n",
        "  acc_list = []\n",
        "  my_cnn.train()\n",
        "  for i , (images , labels) in enumerate (train_loader):\n",
        "    images , labels = images.to(device) , labels.to(device,dtype = torch.long)\n",
        "    optimizer.zero_grad()\n",
        "    outputs = my_cnn(images)\n",
        "    loss = loss_function (outputs , labels)\n",
        "    loss.backward()\n",
        "    optimizer.step()\n",
        "    # calculate accuracy\n",
        "    epoch_loss += outputs.shape[0] * loss.item()\n",
        "    total = labels.size(0)\n",
        "    predicted = torch.max(outputs.data,1)[1]\n",
        "    correct = (predicted == labels).sum().item()\n",
        "    acc_list.append(correct/total)\n",
        "  all_train_losses.append(epoch_loss/88000)\n",
        "  print(epoch_loss/88000)\n",
        "  all_train_accuracy.append(mean(acc_list))\n",
        "\n",
        "  # evaluation on validation data\n",
        "  loss_list = []\n",
        "  my_cnn.eval() \n",
        "  with torch.no_grad():\n",
        "    corr = 0\n",
        "    tot = 0\n",
        "    for j,(images , labels) in enumerate (val_loader):\n",
        "      images , labels = images.to(device) , labels.to(device,dtype = torch.long)\n",
        "      out = my_cnn(images)\n",
        "      loss_list.append(loss_function (out , labels).item())\n",
        "      predicts = torch.max(out.data,1)[1]\n",
        "      tot += labels.size(0)\n",
        "      corr += (predicts == labels).sum().item()\n",
        "    all_val_accuracy.append(corr/tot)\n",
        "    all_val_losses.append(mean(loss_list))\n",
        "    print(\"validation accuracy : \"+str((corr/tot)*100))"
      ],
      "execution_count": 137,
      "outputs": [
        {
          "output_type": "stream",
          "text": [
            "0.35093043366531756\n",
            "validation accuracy : 94.55\n",
            "0.16505063834219155\n",
            "validation accuracy : 96.50999999999999\n",
            "0.13235438203820113\n",
            "validation accuracy : 96.38\n",
            "0.11307187974135476\n",
            "validation accuracy : 97.58\n",
            "0.10018034120174972\n",
            "validation accuracy : 97.50999999999999\n",
            "0.0891908946626989\n",
            "validation accuracy : 97.92\n",
            "0.08304767879149454\n",
            "validation accuracy : 97.83\n",
            "0.07587911478000355\n",
            "validation accuracy : 97.61\n",
            "0.06768552386069628\n",
            "validation accuracy : 98.02\n",
            "0.06440513589027845\n",
            "validation accuracy : 98.15\n",
            "0.05887726349835496\n",
            "validation accuracy : 97.66\n",
            "0.05367232907843903\n",
            "validation accuracy : 98.00999999999999\n",
            "0.05003484196601097\n",
            "validation accuracy : 97.97\n",
            "0.048406936674093064\n",
            "validation accuracy : 98.06\n",
            "0.04537248220043363\n",
            "validation accuracy : 98.22999999999999\n",
            "0.040600271116868085\n",
            "validation accuracy : 98.32\n",
            "0.038628075179109475\n",
            "validation accuracy : 98.14\n",
            "0.036134881719176934\n",
            "validation accuracy : 97.96000000000001\n",
            "0.03666772141117359\n",
            "validation accuracy : 98.4\n",
            "0.0326965526196132\n",
            "validation accuracy : 98.17\n",
            "0.030496985480303093\n",
            "validation accuracy : 98.31\n",
            "0.030234771360880007\n",
            "validation accuracy : 98.11999999999999\n",
            "0.0277576979682966\n",
            "validation accuracy : 98.29\n",
            "0.027252335928245552\n",
            "validation accuracy : 98.16\n",
            "0.02488924100421586\n",
            "validation accuracy : 98.53\n",
            "0.025950794913561285\n",
            "validation accuracy : 98.22\n",
            "0.02425505551820441\n",
            "validation accuracy : 98.41\n",
            "0.024617476426663582\n",
            "validation accuracy : 98.18\n",
            "0.021642102377915185\n",
            "validation accuracy : 98.31\n",
            "0.022149198098784174\n",
            "validation accuracy : 98.28\n",
            "0.02150889107284787\n",
            "validation accuracy : 98.35000000000001\n",
            "0.020495148287459002\n",
            "validation accuracy : 98.28\n",
            "0.020153236655038532\n",
            "validation accuracy : 98.48\n",
            "0.020104739088624642\n",
            "validation accuracy : 98.39\n",
            "0.018328934216333435\n",
            "validation accuracy : 98.4\n",
            "0.019475036162012575\n",
            "validation accuracy : 98.33\n",
            "0.017095086711684748\n",
            "validation accuracy : 98.4\n",
            "0.01721315131784112\n",
            "validation accuracy : 98.36\n",
            "0.01735281932966576\n",
            "validation accuracy : 98.17\n",
            "0.016419692578144598\n",
            "validation accuracy : 98.39\n",
            "0.015886111580154894\n",
            "validation accuracy : 98.4\n",
            "0.01652054998591914\n",
            "validation accuracy : 98.47\n",
            "0.015267259962994021\n",
            "validation accuracy : 98.41\n",
            "0.013803240939759317\n",
            "validation accuracy : 98.35000000000001\n",
            "0.015364815143625905\n",
            "validation accuracy : 98.31\n",
            "0.016051910435842066\n",
            "validation accuracy : 98.42999999999999\n",
            "0.013267807847143393\n",
            "validation accuracy : 98.37\n",
            "0.015136877065031678\n",
            "validation accuracy : 98.39\n",
            "0.013948232486258018\n",
            "validation accuracy : 98.5\n",
            "0.011472730493758056\n",
            "validation accuracy : 98.42\n"
          ],
          "name": "stdout"
        }
      ]
    },
    {
      "cell_type": "markdown",
      "metadata": {
        "id": "IXLMR7XZ3ifA"
      },
      "source": [
        "## Draw the training curves\n",
        "Draw two diagrams for train and validation, one showing loss of each epoch, and another showing accuracy of each epoch."
      ]
    },
    {
      "cell_type": "code",
      "metadata": {
        "id": "mZI6ObEZ3ifB",
        "colab": {
          "base_uri": "https://localhost:8080/",
          "height": 542
        },
        "outputId": "d09eed50-abde-4266-d6bc-78b579b3934c"
      },
      "source": [
        "import matplotlib.pyplot as plt\n",
        "plt.plot(all_train_losses,'green',label = 'Train')\n",
        "plt.plot(all_val_losses,'red',label = 'Validation')\n",
        "plt.xlabel(\"Epoch\")\n",
        "plt.ylabel(\"Loss\")\n",
        "plt.legend()\n",
        "plt.show()\n",
        "plt.plot(all_train_accuracy,'green',label = 'Train')\n",
        "plt.plot(all_val_accuracy,'red',label = 'Validation')\n",
        "plt.xlabel(\"Epoch\")\n",
        "plt.ylabel(\"Accuracy\")\n",
        "plt.legend()\n",
        "plt.show()"
      ],
      "execution_count": 138,
      "outputs": [
        {
          "output_type": "display_data",
          "data": {
            "image/png": "[encoded data removed]",
            "text/plain": [
              "<Figure size 432x288 with 1 Axes>"
            ]
          },
          "metadata": {
            "tags": [],
            "needs_background": "light"
          }
        },
        {
          "output_type": "display_data",
          "data": {
            "image/png": "[encoded data removed]",
            "text/plain": [
              "<Figure size 432x288 with 1 Axes>"
            ]
          },
          "metadata": {
            "tags": [],
            "needs_background": "light"
          }
        }
      ]
    },
    {
      "cell_type": "markdown",
      "metadata": {
        "id": "eAIJx33b3ifC"
      },
      "source": [
        "## Draw misclassified images\n",
        "Draw 10 misclassified images from validation set with expected and predicted labels"
      ]
    },
    {
      "cell_type": "code",
      "metadata": {
        "id": "_g6WT8uC3ifD",
        "colab": {
          "base_uri": "https://localhost:8080/",
          "height": 223
        },
        "outputId": "1e751382-78ed-494b-9f16-382ef9e6a21c"
      },
      "source": [
        "import random\n",
        "mispredicted_samples = []\n",
        "my_cnn.eval()\n",
        "with torch.no_grad():\n",
        "    for i,(images , labels) in enumerate (val_loader):\n",
        "      images , labels = images.to(device) , labels.to(device,dtype = torch.long)\n",
        "      out = my_cnn(images)\n",
        "      predicts = torch.max(out.data,1)[1]\n",
        "      wrong_idx = (predicts != labels.view_as(predicts)).nonzero()[:, 0]\n",
        "      wrong_samples = images[wrong_idx]\n",
        "      wrong_preds = predicts[wrong_idx]\n",
        "      actual_preds = labels.view_as(predicts)[wrong_idx]\n",
        "      for i in range(len(wrong_idx)):\n",
        "          sample = wrong_samples[i]\n",
        "          sample = sample.reshape([28,28])\n",
        "          wrong_pred = wrong_preds[i]\n",
        "          actual_pred = actual_preds[i]\n",
        "          mispredicted_samples.append((sample.cpu(),actual_pred.cpu().item(),wrong_pred.cpu().item()))\n",
        "figs , axes  = plt.subplots(nrows=2 , ncols=5)\n",
        "index = 0\n",
        "random_indexes = random.sample(range(0, len(mispredicted_samples)), 10)\n",
        "plt.gray()\n",
        "for ax in axes.flat:\n",
        "  ax.set(title = str(mispredicted_samples[random_indexes[index]][1]) + \" ---> \"+ str(mispredicted_samples[random_indexes[index]][2]))\n",
        "  ax.axis('off')\n",
        "  ax.imshow(mispredicted_samples[random_indexes[index]][0])\n",
        "  index += 1\n",
        "      "
      ],
      "execution_count": 144,
      "outputs": [
        {
          "output_type": "display_data",
          "data": {
            "image/png": "[encoded data removed]",
            "text/plain": [
              "<Figure size 432x288 with 10 Axes>"
            ]
          },
          "metadata": {
            "tags": [],
            "needs_background": "light"
          }
        }
      ]
    },
    {
      "cell_type": "markdown",
      "metadata": {
        "id": "rdNa3BEH3ifD"
      },
      "source": [
        "## Evaluate your model on the test dataset"
      ]
    },
    {
      "cell_type": "markdown",
      "metadata": {
        "id": "k8ujQUAh3ifE"
      },
      "source": [
        "### Load test dataset\n",
        "Note that the dataset will be downloaded for hte first time in the `data_cache` directory. So do not remove that directory."
      ]
    },
    {
      "cell_type": "code",
      "metadata": {
        "id": "gUDw_z5p3ifF",
        "colab": {
          "base_uri": "https://localhost:8080/"
        },
        "outputId": "a22b17fe-4639-4f3a-cfa3-fe2b5871a4ed"
      },
      "source": [
        "x_test = hw4_helper.get_test_data()\n",
        "x_test.shape"
      ],
      "execution_count": 145,
      "outputs": [
        {
          "output_type": "execute_result",
          "data": {
            "text/plain": [
              "(21000, 28, 28)"
            ]
          },
          "metadata": {
            "tags": []
          },
          "execution_count": 145
        }
      ]
    },
    {
      "cell_type": "markdown",
      "metadata": {
        "id": "QWT0gU_33ifG"
      },
      "source": [
        "### Run your model on test data"
      ]
    },
    {
      "cell_type": "code",
      "metadata": {
        "id": "zh51Db2O3ifG",
        "colab": {
          "base_uri": "https://localhost:8080/"
        },
        "outputId": "eb68d76f-f158-4675-9b67-53f95fc69831"
      },
      "source": [
        "prediction = np.zeros(len(x_test))\n",
        "my_cnn.eval()\n",
        "with torch.no_grad():\n",
        "  for i in range(len(x_test)):\n",
        "    test = torch.unsqueeze(torch.unsqueeze(torch.Tensor(x_test[i]),0),0)\n",
        "    test= test.to(device)\n",
        "    result = my_cnn(test)\n",
        "    result = torch.max(result.data,1)[1]\n",
        "    prediction [i] = result\n",
        "  print(prediction)\n"
      ],
      "execution_count": 146,
      "outputs": [
        {
          "output_type": "stream",
          "text": [
            "[3. 3. 7. ... 0. 7. 5.]\n"
          ],
          "name": "stdout"
        }
      ]
    },
    {
      "cell_type": "markdown",
      "metadata": {
        "id": "arYv3Ice3ifH"
      },
      "source": [
        "### Save the predictions\n",
        "The following helper function will save the given prediction array (as a 1D numpy array) to `prediction.npy`. Upload this file with this notebook to quera as a `zip` file."
      ]
    },
    {
      "cell_type": "code",
      "metadata": {
        "id": "ZJtDB3qa3ifI"
      },
      "source": [
        "hw4_helper.export_prediction(prediction)"
      ],
      "execution_count": 147,
      "outputs": []
    },
    {
      "cell_type": "markdown",
      "metadata": {
        "id": "U9sJ_o_X3ifI"
      },
      "source": [
        "### Evaluate your predictions\n",
        "The following helper function calls the test API with the given prediction array (as a 1D numpy array) and prints the server result."
      ]
    },
    {
      "cell_type": "code",
      "metadata": {
        "id": "HmhBsRdY3ifJ",
        "colab": {
          "base_uri": "https://localhost:8080/"
        },
        "outputId": "ed9c72bd-1a65-4736-8e2f-01f1134618c1"
      },
      "source": [
        "hw4_helper.test(prediction)"
      ],
      "execution_count": 149,
      "outputs": [
        {
          "output_type": "stream",
          "text": [
            "Status: 200 - message: Your accuracy is 98.24%.\n"
          ],
          "name": "stdout"
        }
      ]
    }
  ]
}